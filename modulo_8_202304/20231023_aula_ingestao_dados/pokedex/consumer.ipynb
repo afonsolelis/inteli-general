{
 "cells": [
  {
   "cell_type": "code",
   "execution_count": 14,
   "metadata": {},
   "outputs": [
    {
     "name": "stdout",
     "output_type": "stream",
     "text": [
      "0 documentos foram deletados.\n"
     ]
    }
   ],
   "source": [
    "from pymongo import MongoClient\n",
    "\n",
    "# Configuração do banco de dados\n",
    "MONGO_URI = \"mongodb://localhost:27017/\"\n",
    "DATABASE_NAME = \"pokedex\"\n",
    "COLLECTION_NAME = \"pokemons\"\n",
    "\n",
    "# Conectando ao MongoDB\n",
    "client = MongoClient(MONGO_URI)\n",
    "db = client[DATABASE_NAME]\n",
    "collection = db[COLLECTION_NAME]\n",
    "\n",
    "# Deletando todos os documentos da collection\n",
    "result = collection.delete_many({})\n",
    "\n",
    "# Informando o resultado\n",
    "print(f\"{result.deleted_count} documentos foram deletados.\")\n"
   ]
  },
  {
   "cell_type": "code",
   "execution_count": 15,
   "metadata": {},
   "outputs": [
    {
     "name": "stdout",
     "output_type": "stream",
     "text": [
      "Obtendo dados para o Pokémon 1/2: bulbasaur\n",
      "Obtendo dados para o Pokémon 2/2: ivysaur\n",
      "Pokémons inseridos com sucesso no MongoDB!\n"
     ]
    }
   ],
   "source": [
    "import requests\n",
    "import pymongo\n",
    "import time\n",
    "\n",
    "# URL do endpoint da PokeAPI\n",
    "url = \"https://pokeapi.co/api/v2/pokemon/?offset=0&limit=2\"\n",
    "\n",
    "# Conectando com o MongoDB\n",
    "client = pymongo.MongoClient(\"mongodb://localhost:27017/\")\n",
    "db = client[\"pokedex\"]\n",
    "collection = db[\"pokemons\"]\n",
    "\n",
    "# Fazendo a requisição HTTP\n",
    "response = requests.get(url)\n",
    "\n",
    "# Verificando se a requisição foi bem-sucedida (código de status 200)\n",
    "if response.status_code == 200:\n",
    "    # Convertendo a resposta para JSON\n",
    "    data = response.json()\n",
    "\n",
    "    # Obtendo a lista de pokémons\n",
    "    pokemons = data[\"results\"]\n",
    "\n",
    "    for index, pokemon in enumerate(pokemons):\n",
    "        pokemon_url = pokemon[\"url\"]\n",
    "        print(f\"Obtendo dados para o Pokémon {index + 1}/{len(pokemons)}: {pokemon['name']}\")\n",
    "\n",
    "        pokemon_data = requests.get(pokemon_url).json()\n",
    "\n",
    "        # Estruturando os dados para inserção no MongoDB\n",
    "        record = {\n",
    "            \"name\": pokemon_data[\"name\"],\n",
    "            \"url\": pokemon_url,\n",
    "            \"abilities\": [ability[\"ability\"][\"name\"] for ability in pokemon_data[\"abilities\"]],\n",
    "            \"base_experience\": pokemon_data[\"base_experience\"],\n",
    "            \"forms\": pokemon_data[\"forms\"],\n",
    "            \"game_indices\": pokemon_data[\"game_indices\"],\n",
    "            \"height\": pokemon_data[\"height\"],\n",
    "            \"held_items\": pokemon_data[\"held_items\"],\n",
    "            \"id\": pokemon_data[\"id\"],\n",
    "            \"is_default\": pokemon_data[\"is_default\"],\n",
    "            \"location_area_encounters\": pokemon_data[\"location_area_encounters\"],\n",
    "            \"moves\": pokemon_data[\"moves\"],\n",
    "            \"n_order\": pokemon_data[\"order\"],\n",
    "            \"past_types\": pokemon_data[\"past_types\"],\n",
    "            \"species\": pokemon_data[\"species\"],\n",
    "            \"sprites\": pokemon_data[\"sprites\"],\n",
    "            \"stats\": pokemon_data[\"stats\"],\n",
    "            \"types\": pokemon_data[\"types\"],\n",
    "            \"weight\": pokemon_data[\"weight\"]\n",
    "        }\n",
    "\n",
    "        # Inserindo o registro no MongoDB\n",
    "        collection.insert_one(record)\n",
    "\n",
    "        # Aguarde 1 segundo antes de fazer a próxima requisição\n",
    "        time.sleep(0.3)\n",
    "\n",
    "    print(\"Pokémons inseridos com sucesso no MongoDB!\")\n",
    "else:\n",
    "    print(f\"Erro ao acessar a API da PokeAPI. Código de status: {response.status_code}\")\n"
   ]
  },
  {
   "cell_type": "code",
   "execution_count": 16,
   "metadata": {},
   "outputs": [
    {
     "name": "stdout",
     "output_type": "stream",
     "text": [
      "Registros do MongoDB enviados para a fila do RabbitMQ!\n"
     ]
    }
   ],
   "source": [
    "import pymongo\n",
    "import pika\n",
    "import json\n",
    "\n",
    "# Configurações do MongoDB\n",
    "MONGO_URI = \"mongodb://localhost:27017/\"\n",
    "client = pymongo.MongoClient(MONGO_URI)\n",
    "db = client[\"pokedex\"]\n",
    "collection = db[\"pokemons\"]\n",
    "\n",
    "# Configuração de conexão com o RabbitMQ\n",
    "credentials = pika.PlainCredentials('user', 'password')\n",
    "connection = pika.BlockingConnection(pika.ConnectionParameters('localhost', 5672, '/', credentials))\n",
    "channel = connection.channel()\n",
    "\n",
    "# Garantindo que a fila exista (se não existir, ela será criada)\n",
    "channel.queue_declare(queue='pokemon_queue', durable=True)\n",
    "\n",
    "# Lendo os registros do MongoDB\n",
    "records = collection.find()\n",
    "\n",
    "for record in records:\n",
    "    # O ID do MongoDB não é serializável, então vamos removê-lo\n",
    "    record['_id'] = str(record['_id'])\n",
    "\n",
    "    # Enviando o registro para o RabbitMQ\n",
    "    channel.basic_publish(exchange='',\n",
    "                          routing_key='pokemon_queue',\n",
    "                          body=json.dumps(record),\n",
    "                          properties=pika.BasicProperties(\n",
    "                              delivery_mode=2,  # torna a mensagem persistente\n",
    "                          ))\n",
    "\n",
    "print(\"Registros do MongoDB enviados para a fila do RabbitMQ!\")\n",
    "connection.close()\n"
   ]
  }
 ],
 "metadata": {
  "kernelspec": {
   "display_name": "Python 3",
   "language": "python",
   "name": "python3"
  },
  "language_info": {
   "codemirror_mode": {
    "name": "ipython",
    "version": 3
   },
   "file_extension": ".py",
   "mimetype": "text/x-python",
   "name": "python",
   "nbconvert_exporter": "python",
   "pygments_lexer": "ipython3",
   "version": "3.10.6"
  }
 },
 "nbformat": 4,
 "nbformat_minor": 2
}
