{
 "cells": [
  {
   "cell_type": "code",
   "execution_count": 12,
   "metadata": {},
   "outputs": [
    {
     "name": "stdout",
     "output_type": "stream",
     "text": [
      "Tabela 'pokemons' criada com sucesso!\n"
     ]
    }
   ],
   "source": [
    "import sqlite3\n",
    "\n",
    "# Conectando ao SQLite\n",
    "conn = sqlite3.connect('pokedex.db')\n",
    "cursor = conn.cursor()\n",
    "\n",
    "# Criando a tabela\n",
    "cursor.execute('''\n",
    "CREATE TABLE IF NOT EXISTS pokemons (\n",
    "    id INTEGER PRIMARY KEY,\n",
    "    name TEXT,\n",
    "    url TEXT,\n",
    "    abilities TEXT,\n",
    "    base_experience INTEGER,\n",
    "    forms TEXT,\n",
    "    game_indices TEXT,\n",
    "    height INTEGER,\n",
    "    held_items TEXT,\n",
    "    is_default BOOLEAN,\n",
    "    location_area_encounters TEXT,\n",
    "    moves TEXT,\n",
    "    n_order INTEGER,\n",
    "    past_types TEXT,\n",
    "    species TEXT,\n",
    "    sprites TEXT,\n",
    "    stats TEXT,\n",
    "    types TEXT,\n",
    "    weight INTEGER\n",
    ");\n",
    "''')\n",
    "conn.commit()\n",
    "\n",
    "print(\"Tabela 'pokemons' criada com sucesso!\")\n",
    "cursor.close()\n",
    "conn.close()\n"
   ]
  },
  {
   "cell_type": "code",
   "execution_count": 13,
   "metadata": {},
   "outputs": [
    {
     "name": "stdout",
     "output_type": "stream",
     "text": [
      "Todos os dados da tabela 'pokemons' foram deletados!\n"
     ]
    }
   ],
   "source": [
    "import sqlite3\n",
    "\n",
    "# Conectando ao SQLite\n",
    "conn = sqlite3.connect('pokedex.db')\n",
    "cursor = conn.cursor()\n",
    "\n",
    "# Deletando todos os registros da tabela 'pokemons'\n",
    "cursor.execute('DELETE FROM pokemons')\n",
    "conn.commit()\n",
    "\n",
    "print(\"Todos os dados da tabela 'pokemons' foram deletados!\")\n",
    "cursor.close()\n",
    "conn.close()\n"
   ]
  },
  {
   "cell_type": "code",
   "execution_count": 14,
   "metadata": {},
   "outputs": [
    {
     "name": "stdout",
     "output_type": "stream",
     "text": [
      "Esperando mensagens da fila. Para sair pressione CTRL+C\n",
      "Dados do Pokémon bulbasaur foram inseridos no SQLite.\n",
      "Dados do Pokémon ivysaur foram inseridos no SQLite.\n"
     ]
    },
    {
     "ename": "KeyboardInterrupt",
     "evalue": "",
     "output_type": "error",
     "traceback": [
      "\u001b[0;31m---------------------------------------------------------------------------\u001b[0m",
      "\u001b[0;31mKeyboardInterrupt\u001b[0m                         Traceback (most recent call last)",
      "\u001b[1;32m/mnt/c/Users/afons/OneDrive/profissional/docencia/inteli-general/modulo_8_202304/20231023_aula_ingestao_dados/pokedex/listener.ipynb Célula 3\u001b[0m line \u001b[0;36m5\n\u001b[1;32m     <a href='vscode-notebook-cell://wsl%2Bubuntu/mnt/c/Users/afons/OneDrive/profissional/docencia/inteli-general/modulo_8_202304/20231023_aula_ingestao_dados/pokedex/listener.ipynb#W1sdnNjb2RlLXJlbW90ZQ%3D%3D?line=48'>49</a>\u001b[0m channel\u001b[39m.\u001b[39mbasic_consume(queue\u001b[39m=\u001b[39m\u001b[39m'\u001b[39m\u001b[39mpokemon_queue\u001b[39m\u001b[39m'\u001b[39m,\n\u001b[1;32m     <a href='vscode-notebook-cell://wsl%2Bubuntu/mnt/c/Users/afons/OneDrive/profissional/docencia/inteli-general/modulo_8_202304/20231023_aula_ingestao_dados/pokedex/listener.ipynb#W1sdnNjb2RlLXJlbW90ZQ%3D%3D?line=49'>50</a>\u001b[0m                       on_message_callback\u001b[39m=\u001b[39mcallback,\n\u001b[1;32m     <a href='vscode-notebook-cell://wsl%2Bubuntu/mnt/c/Users/afons/OneDrive/profissional/docencia/inteli-general/modulo_8_202304/20231023_aula_ingestao_dados/pokedex/listener.ipynb#W1sdnNjb2RlLXJlbW90ZQ%3D%3D?line=50'>51</a>\u001b[0m                       auto_ack\u001b[39m=\u001b[39m\u001b[39mTrue\u001b[39;00m)  \u001b[39m# Automaticamente confirma o recebimento das mensagens\u001b[39;00m\n\u001b[1;32m     <a href='vscode-notebook-cell://wsl%2Bubuntu/mnt/c/Users/afons/OneDrive/profissional/docencia/inteli-general/modulo_8_202304/20231023_aula_ingestao_dados/pokedex/listener.ipynb#W1sdnNjb2RlLXJlbW90ZQ%3D%3D?line=52'>53</a>\u001b[0m \u001b[39mprint\u001b[39m(\u001b[39m\"\u001b[39m\u001b[39mEsperando mensagens da fila. Para sair pressione CTRL+C\u001b[39m\u001b[39m\"\u001b[39m)\n\u001b[0;32m---> <a href='vscode-notebook-cell://wsl%2Bubuntu/mnt/c/Users/afons/OneDrive/profissional/docencia/inteli-general/modulo_8_202304/20231023_aula_ingestao_dados/pokedex/listener.ipynb#W1sdnNjb2RlLXJlbW90ZQ%3D%3D?line=53'>54</a>\u001b[0m channel\u001b[39m.\u001b[39;49mstart_consuming()\n\u001b[1;32m     <a href='vscode-notebook-cell://wsl%2Bubuntu/mnt/c/Users/afons/OneDrive/profissional/docencia/inteli-general/modulo_8_202304/20231023_aula_ingestao_dados/pokedex/listener.ipynb#W1sdnNjb2RlLXJlbW90ZQ%3D%3D?line=55'>56</a>\u001b[0m \u001b[39m# Não se esqueça de fechar as conexões ao terminar\u001b[39;00m\n\u001b[1;32m     <a href='vscode-notebook-cell://wsl%2Bubuntu/mnt/c/Users/afons/OneDrive/profissional/docencia/inteli-general/modulo_8_202304/20231023_aula_ingestao_dados/pokedex/listener.ipynb#W1sdnNjb2RlLXJlbW90ZQ%3D%3D?line=56'>57</a>\u001b[0m cursor\u001b[39m.\u001b[39mclose()\n",
      "File \u001b[0;32m~/.pyenv/versions/3.10.6/lib/python3.10/site-packages/pika/adapters/blocking_connection.py:1883\u001b[0m, in \u001b[0;36mBlockingChannel.start_consuming\u001b[0;34m(self)\u001b[0m\n\u001b[1;32m   1880\u001b[0m \u001b[39m# Process events as long as consumers exist on this channel\u001b[39;00m\n\u001b[1;32m   1881\u001b[0m \u001b[39mwhile\u001b[39;00m \u001b[39mself\u001b[39m\u001b[39m.\u001b[39m_consumer_infos:\n\u001b[1;32m   1882\u001b[0m     \u001b[39m# This will raise ChannelClosed if channel is closed by broker\u001b[39;00m\n\u001b[0;32m-> 1883\u001b[0m     \u001b[39mself\u001b[39;49m\u001b[39m.\u001b[39;49m_process_data_events(time_limit\u001b[39m=\u001b[39;49m\u001b[39mNone\u001b[39;49;00m)\n",
      "File \u001b[0;32m~/.pyenv/versions/3.10.6/lib/python3.10/site-packages/pika/adapters/blocking_connection.py:2044\u001b[0m, in \u001b[0;36mBlockingChannel._process_data_events\u001b[0;34m(self, time_limit)\u001b[0m\n\u001b[1;32m   2025\u001b[0m \u001b[39mdef\u001b[39;00m \u001b[39m_process_data_events\u001b[39m(\u001b[39mself\u001b[39m, time_limit):\n\u001b[1;32m   2026\u001b[0m \u001b[39m    \u001b[39m\u001b[39m\"\"\"Wrapper for `BlockingConnection.process_data_events()` with common\u001b[39;00m\n\u001b[1;32m   2027\u001b[0m \u001b[39m    channel-specific logic that raises ChannelClosed if broker closed this\u001b[39;00m\n\u001b[1;32m   2028\u001b[0m \u001b[39m    channel.\u001b[39;00m\n\u001b[0;32m   (...)\u001b[0m\n\u001b[1;32m   2042\u001b[0m \n\u001b[1;32m   2043\u001b[0m \u001b[39m    \"\"\"\u001b[39;00m\n\u001b[0;32m-> 2044\u001b[0m     \u001b[39mself\u001b[39;49m\u001b[39m.\u001b[39;49mconnection\u001b[39m.\u001b[39;49mprocess_data_events(time_limit\u001b[39m=\u001b[39;49mtime_limit)\n\u001b[1;32m   2045\u001b[0m     \u001b[39mif\u001b[39;00m \u001b[39mself\u001b[39m\u001b[39m.\u001b[39mis_closed \u001b[39mand\u001b[39;00m \u001b[39misinstance\u001b[39m(\u001b[39mself\u001b[39m\u001b[39m.\u001b[39m_closing_reason,\n\u001b[1;32m   2046\u001b[0m                                      exceptions\u001b[39m.\u001b[39mChannelClosedByBroker):\n\u001b[1;32m   2047\u001b[0m         LOGGER\u001b[39m.\u001b[39mdebug(\u001b[39m'\u001b[39m\u001b[39mChannel close by broker detected, raising \u001b[39m\u001b[39m%r\u001b[39;00m\u001b[39m; \u001b[39m\u001b[39m%r\u001b[39;00m\u001b[39m'\u001b[39m,\n\u001b[1;32m   2048\u001b[0m                      \u001b[39mself\u001b[39m\u001b[39m.\u001b[39m_closing_reason, \u001b[39mself\u001b[39m)\n",
      "File \u001b[0;32m~/.pyenv/versions/3.10.6/lib/python3.10/site-packages/pika/adapters/blocking_connection.py:842\u001b[0m, in \u001b[0;36mBlockingConnection.process_data_events\u001b[0;34m(self, time_limit)\u001b[0m\n\u001b[1;32m    838\u001b[0m common_terminator \u001b[39m=\u001b[39m \u001b[39mlambda\u001b[39;00m: \u001b[39mbool\u001b[39m(dispatch_acquired \u001b[39mand\u001b[39;00m\n\u001b[1;32m    839\u001b[0m                                  (\u001b[39mself\u001b[39m\u001b[39m.\u001b[39m_channels_pending_dispatch \u001b[39mor\u001b[39;00m\n\u001b[1;32m    840\u001b[0m                                   \u001b[39mself\u001b[39m\u001b[39m.\u001b[39m_ready_events))\n\u001b[1;32m    841\u001b[0m \u001b[39mif\u001b[39;00m time_limit \u001b[39mis\u001b[39;00m \u001b[39mNone\u001b[39;00m:\n\u001b[0;32m--> 842\u001b[0m     \u001b[39mself\u001b[39;49m\u001b[39m.\u001b[39;49m_flush_output(common_terminator)\n\u001b[1;32m    843\u001b[0m \u001b[39melse\u001b[39;00m:\n\u001b[1;32m    844\u001b[0m     \u001b[39mwith\u001b[39;00m _IoloopTimerContext(time_limit, \u001b[39mself\u001b[39m\u001b[39m.\u001b[39m_impl) \u001b[39mas\u001b[39;00m timer:\n",
      "File \u001b[0;32m~/.pyenv/versions/3.10.6/lib/python3.10/site-packages/pika/adapters/blocking_connection.py:514\u001b[0m, in \u001b[0;36mBlockingConnection._flush_output\u001b[0;34m(self, *waiters)\u001b[0m\n\u001b[1;32m    512\u001b[0m \u001b[39m# Process I/O until our completion condition is satisfied\u001b[39;00m\n\u001b[1;32m    513\u001b[0m \u001b[39mwhile\u001b[39;00m \u001b[39mnot\u001b[39;00m is_done():\n\u001b[0;32m--> 514\u001b[0m     \u001b[39mself\u001b[39;49m\u001b[39m.\u001b[39;49m_impl\u001b[39m.\u001b[39;49mioloop\u001b[39m.\u001b[39;49mpoll()\n\u001b[1;32m    515\u001b[0m     \u001b[39mself\u001b[39m\u001b[39m.\u001b[39m_impl\u001b[39m.\u001b[39mioloop\u001b[39m.\u001b[39mprocess_timeouts()\n\u001b[1;32m    517\u001b[0m \u001b[39mif\u001b[39;00m \u001b[39mself\u001b[39m\u001b[39m.\u001b[39m_closed_result\u001b[39m.\u001b[39mready:\n",
      "File \u001b[0;32m~/.pyenv/versions/3.10.6/lib/python3.10/site-packages/pika/adapters/select_connection.py:579\u001b[0m, in \u001b[0;36mIOLoop.poll\u001b[0;34m(self)\u001b[0m\n\u001b[1;32m    572\u001b[0m \u001b[39mdef\u001b[39;00m \u001b[39mpoll\u001b[39m(\u001b[39mself\u001b[39m):\n\u001b[1;32m    573\u001b[0m \u001b[39m    \u001b[39m\u001b[39m\"\"\"[Extension] Wait for events of interest on registered file\u001b[39;00m\n\u001b[1;32m    574\u001b[0m \u001b[39m    descriptors until an event of interest occurs or next timer deadline or\u001b[39;00m\n\u001b[1;32m    575\u001b[0m \u001b[39m    `_PollerBase._MAX_POLL_TIMEOUT`, whichever is sooner, and dispatch the\u001b[39;00m\n\u001b[1;32m    576\u001b[0m \u001b[39m    corresponding event handlers.\u001b[39;00m\n\u001b[1;32m    577\u001b[0m \n\u001b[1;32m    578\u001b[0m \u001b[39m    \"\"\"\u001b[39;00m\n\u001b[0;32m--> 579\u001b[0m     \u001b[39mself\u001b[39;49m\u001b[39m.\u001b[39;49m_poller\u001b[39m.\u001b[39;49mpoll()\n",
      "File \u001b[0;32m~/.pyenv/versions/3.10.6/lib/python3.10/site-packages/pika/adapters/select_connection.py:1184\u001b[0m, in \u001b[0;36mPollPoller.poll\u001b[0;34m(self)\u001b[0m\n\u001b[1;32m   1182\u001b[0m \u001b[39mwhile\u001b[39;00m \u001b[39mTrue\u001b[39;00m:\n\u001b[1;32m   1183\u001b[0m     \u001b[39mtry\u001b[39;00m:\n\u001b[0;32m-> 1184\u001b[0m         events \u001b[39m=\u001b[39m \u001b[39mself\u001b[39;49m\u001b[39m.\u001b[39;49m_poll\u001b[39m.\u001b[39;49mpoll(\u001b[39mself\u001b[39;49m\u001b[39m.\u001b[39;49m_get_max_wait())\n\u001b[1;32m   1185\u001b[0m         \u001b[39mbreak\u001b[39;00m\n\u001b[1;32m   1186\u001b[0m     \u001b[39mexcept\u001b[39;00m _SELECT_ERRORS \u001b[39mas\u001b[39;00m error:\n",
      "\u001b[0;31mKeyboardInterrupt\u001b[0m: "
     ]
    }
   ],
   "source": [
    "import pika\n",
    "import sqlite3\n",
    "import json\n",
    "\n",
    "# Configuração para conectar ao RabbitMQ\n",
    "credentials = pika.PlainCredentials('user', 'password')\n",
    "connection = pika.BlockingConnection(pika.ConnectionParameters('localhost', 5672, '/', credentials))\n",
    "channel = connection.channel()\n",
    "\n",
    "# Garantindo que a fila exista\n",
    "channel.queue_declare(queue='pokemon_queue', durable=True)\n",
    "\n",
    "# Conectando ao SQLite\n",
    "conn = sqlite3.connect('pokedex.db')\n",
    "cursor = conn.cursor()\n",
    "\n",
    "# Função callback para processar mensagens da fila\n",
    "def callback(ch, method, properties, body):\n",
    "    # Convertendo a mensagem de volta em um dicionário\n",
    "    data = json.loads(body)\n",
    "\n",
    "    # Verificação para 'n_order' e 'order'\n",
    "    n_order = data.get('n_order', data.get('n_order', None))\n",
    "    if n_order is None:\n",
    "        print(f\"Erro: 'n_order' ou 'order' não encontrados na mensagem para o Pokémon {data['name']}. Ignorando...\")\n",
    "        return\n",
    "\n",
    "    # Inserindo dados no SQLite\n",
    "    cursor.execute('''\n",
    "    INSERT INTO pokemons (\n",
    "        name, url, abilities, base_experience, forms, game_indices,\n",
    "        height, held_items, id, is_default, location_area_encounters,\n",
    "        moves, n_order, past_types, species, sprites, stats, types, weight\n",
    "    )\n",
    "    VALUES (?, ?, ?, ?, ?, ?, ?, ?, ?, ?, ?, ?, ?, ?, ?, ?, ?, ?, ?)\n",
    "    ''', (\n",
    "        data['name'], data['url'], json.dumps(data['abilities']), data['base_experience'],\n",
    "        json.dumps(data['forms']), json.dumps(data['game_indices']), data['height'],\n",
    "        json.dumps(data['held_items']), data['id'], data['is_default'],\n",
    "        data['location_area_encounters'], json.dumps(data['moves']), n_order,\n",
    "        json.dumps(data['past_types']), json.dumps(data['species']), json.dumps(data['sprites']),\n",
    "        json.dumps(data['stats']), json.dumps(data['types']), data['weight']\n",
    "    ))\n",
    "    conn.commit()\n",
    "\n",
    "    print(f\"Dados do Pokémon {data['name']} foram inseridos no SQLite.\")\n",
    "\n",
    "# Informar ao RabbitMQ que queremos começar a consumir mensagens da fila\n",
    "channel.basic_consume(queue='pokemon_queue',\n",
    "                      on_message_callback=callback,\n",
    "                      auto_ack=True)  # Automaticamente confirma o recebimento das mensagens\n",
    "\n",
    "print(\"Esperando mensagens da fila. Para sair pressione CTRL+C\")\n",
    "channel.start_consuming()\n",
    "\n",
    "# Não se esqueça de fechar as conexões ao terminar\n",
    "cursor.close()\n",
    "conn.close()\n",
    "connection.close()\n"
   ]
  }
 ],
 "metadata": {
  "kernelspec": {
   "display_name": "Python 3",
   "language": "python",
   "name": "python3"
  },
  "language_info": {
   "codemirror_mode": {
    "name": "ipython",
    "version": 3
   },
   "file_extension": ".py",
   "mimetype": "text/x-python",
   "name": "python",
   "nbconvert_exporter": "python",
   "pygments_lexer": "ipython3",
   "version": "3.10.6"
  }
 },
 "nbformat": 4,
 "nbformat_minor": 2
}
