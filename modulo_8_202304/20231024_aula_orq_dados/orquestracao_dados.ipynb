{
 "cells": [
  {
   "cell_type": "markdown",
   "metadata": {},
   "source": [
    "# Com o serviço da Amazon Kinesis funcionando, podemos nos conectar"
   ]
  },
  {
   "cell_type": "code",
   "execution_count": null,
   "metadata": {},
   "outputs": [],
   "source": [
    "# instalar as bibliotecas necessárias\n",
    "\n",
    "!pip install boto3\n",
    "!pip install requests\n"
   ]
  },
  {
   "cell_type": "markdown",
   "metadata": {},
   "source": [
    "## Vamos testar a conexão com o Stream"
   ]
  },
  {
   "cell_type": "code",
   "execution_count": 4,
   "metadata": {},
   "outputs": [
    {
     "name": "stdout",
     "output_type": "stream",
     "text": [
      "A stream pokemon_stream existe e a conexão foi bem-sucedida!\n"
     ]
    }
   ],
   "source": [
    "import boto3\n",
    "\n",
    "def check_kinesis_connection(stream_name, endpoint_url):\n",
    "    \"\"\"\n",
    "    Verifica a conexão com o Kinesis no LocalStack.\n",
    "\n",
    "    :param stream_name: Nome da stream que você deseja verificar.\n",
    "    :param endpoint_url: URL do endpoint do LocalStack para Kinesis.\n",
    "    :return: Retorna True se a stream existir, caso contrário, retorna False.\n",
    "    \"\"\"\n",
    "    try:\n",
    "        # Configurando o cliente do Kinesis para o LocalStack\n",
    "        kinesis_client = boto3.client(\n",
    "            'kinesis',\n",
    "            region_name='us-east-1',\n",
    "            endpoint_url=endpoint_url,\n",
    "            aws_access_key_id='dummy_access_key',\n",
    "            aws_secret_access_key='dummy_secret_key'\n",
    "        )\n",
    "\n",
    "\n",
    "        # Tentando obter a descrição da stream\n",
    "        response = kinesis_client.describe_stream(StreamName=stream_name)\n",
    "\n",
    "        # Se a resposta contiver informações da stream, então a conexão foi bem-sucedida\n",
    "        if 'StreamDescription' in response:\n",
    "            return True\n",
    "        else:\n",
    "            return False\n",
    "\n",
    "    except Exception as e:\n",
    "        print(f\"Erro ao tentar se conectar ao Kinesis no LocalStack: {e}\")\n",
    "        return False\n",
    "\n",
    "# Usando a função\n",
    "endpoint = \"http://localhost:4566\"  # Assumindo que o LocalStack está rodando no localhost na porta padrão\n",
    "stream_name = \"pokemon_stream\"\n",
    "\n",
    "if check_kinesis_connection(stream_name, endpoint):\n",
    "    print(f\"A stream {stream_name} existe e a conexão foi bem-sucedida!\")\n",
    "else:\n",
    "    print(f\"Problema ao se conectar ou a stream {stream_name} não existe.\")\n"
   ]
  },
  {
   "cell_type": "markdown",
   "metadata": {},
   "source": [
    "## vamos coletar os dados de pokemon e guardar no S3"
   ]
  },
  {
   "cell_type": "code",
   "execution_count": 5,
   "metadata": {},
   "outputs": [
    {
     "name": "stdout",
     "output_type": "stream",
     "text": [
      "Pokémons armazenados com sucesso!\n"
     ]
    }
   ],
   "source": [
    "import boto3\n",
    "import requests\n",
    "import json\n",
    "\n",
    "def get_all_pokemon_from_pokeapi(limit=100):\n",
    "    \"\"\"Busca os pokémons da PokeAPI.\"\"\"\n",
    "    url = f\"https://pokeapi.co/api/v2/pokemon?limit={limit}\"\n",
    "    response = requests.get(url)\n",
    "    return response.json()\n",
    "\n",
    "def store_to_localstack_s3(data, bucket_name, file_name):\n",
    "    \"\"\"Armazena os dados no LocalStack S3.\"\"\"\n",
    "    s3_client = boto3.client(\n",
    "        's3',\n",
    "        endpoint_url='http://localhost:4566',\n",
    "        region_name='us-east-1',\n",
    "        aws_access_key_id='dummy_access_key',\n",
    "        aws_secret_access_key='dummy_secret_key'\n",
    "    )\n",
    "\n",
    "    # Certifique-se de que o bucket existe\n",
    "    if bucket_name not in [bucket['Name'] for bucket in s3_client.list_buckets()['Buckets']]:\n",
    "        s3_client.create_bucket(Bucket=bucket_name)\n",
    "\n",
    "    s3_client.put_object(Bucket=bucket_name, Key=file_name, Body=json.dumps(data))\n",
    "\n",
    "def main():\n",
    "    data = get_all_pokemon_from_pokeapi()\n",
    "    store_to_localstack_s3(data, 'pokebucket', 'pokemons.json')\n",
    "    print(\"Pokémons armazenados com sucesso!\")\n",
    "\n",
    "if __name__ == \"__main__\":\n",
    "    main()\n"
   ]
  },
  {
   "cell_type": "markdown",
   "metadata": {},
   "source": [
    "# Vamos ler os dados do S3 e enviar para o Kinesis"
   ]
  },
  {
   "cell_type": "code",
   "execution_count": 6,
   "metadata": {},
   "outputs": [
    {
     "name": "stdout",
     "output_type": "stream",
     "text": [
      "Pokémons enviados para Kinesis com sucesso!\n"
     ]
    }
   ],
   "source": [
    "import boto3\n",
    "import json\n",
    "\n",
    "def read_from_localstack_s3(bucket_name, file_name):\n",
    "    \"\"\"Lê os dados do LocalStack S3.\"\"\"\n",
    "    s3_client = boto3.client(\n",
    "        's3',\n",
    "        endpoint_url='http://localhost:4566',\n",
    "        region_name='us-east-1',\n",
    "        aws_access_key_id='dummy_access_key',\n",
    "        aws_secret_access_key='dummy_secret_key'\n",
    "    )\n",
    "\n",
    "    response = s3_client.get_object(Bucket=bucket_name, Key=file_name)\n",
    "    return json.loads(response['Body'].read())\n",
    "\n",
    "def send_to_kinesis(data, stream_name):\n",
    "    \"\"\"Envia os dados para o Kinesis no LocalStack.\"\"\"\n",
    "    kinesis_client = boto3.client(\n",
    "        'kinesis',\n",
    "        endpoint_url='http://localhost:4566',\n",
    "        region_name='us-east-1',\n",
    "        aws_access_key_id='dummy_access_key',\n",
    "        aws_secret_access_key='dummy_secret_key'\n",
    "    )\n",
    "\n",
    "    for item in data['results']:\n",
    "        # Enviando cada Pokémon individualmente para o Kinesis\n",
    "        kinesis_client.put_record(\n",
    "            StreamName=stream_name,\n",
    "            Data=json.dumps(item),\n",
    "            PartitionKey=item['name']  # usando o nome do Pokémon como chave de partição\n",
    "        )\n",
    "\n",
    "def main():\n",
    "    data = read_from_localstack_s3('pokebucket', 'pokemons.json')\n",
    "    send_to_kinesis(data, 'pokemon_stream')\n",
    "    print(\"Pokémons enviados para Kinesis com sucesso!\")\n",
    "\n",
    "if __name__ == \"__main__\":\n",
    "    main()\n"
   ]
  },
  {
   "cell_type": "markdown",
   "metadata": {},
   "source": [
    "# Consumir o Kinsesis"
   ]
  },
  {
   "cell_type": "code",
   "execution_count": 8,
   "metadata": {},
   "outputs": [],
   "source": [
    "import boto3\n",
    "import json\n",
    "\n",
    "def read_from_kinesis(stream_name, shard_id):\n",
    "    \"\"\"Lê os registros do Kinesis no LocalStack.\"\"\"\n",
    "    kinesis_client = boto3.client(\n",
    "        'kinesis',\n",
    "        endpoint_url='http://localhost:4566',\n",
    "        region_name='us-east-1',\n",
    "        aws_access_key_id='dummy_access_key',\n",
    "        aws_secret_access_key='dummy_secret_key'\n",
    "    )\n",
    "\n",
    "    # Obtenha um shard iterator\n",
    "    shard_it = kinesis_client.get_shard_iterator(\n",
    "        StreamName=stream_name,\n",
    "        ShardId=shard_id,\n",
    "        ShardIteratorType='TRIM_HORIZON'  # Lê desde o início da shard\n",
    "    )[\"ShardIterator\"]\n",
    "\n",
    "    records = []\n",
    "    while shard_it:\n",
    "        response = kinesis_client.get_records(ShardIterator=shard_it, Limit=100)\n",
    "\n",
    "        # Processar os registros\n",
    "        for rec in response['Records']:\n",
    "            payload = json.loads(rec['Data'])\n",
    "            records.append(payload)\n",
    "\n",
    "        # Próximo shard iterator\n",
    "        shard_it = response.get('NextShardIterator')\n",
    "\n",
    "    return records\n",
    "\n",
    "def main():\n",
    "    records = read_from_kinesis('pokemon_stream', 'shardId-000000000000')\n",
    "\n",
    "    for record in records:\n",
    "        print(record)  # Imprime cada registro\n",
    "\n",
    "if __name__ == \"__main__\":\n",
    "    main()\n"
   ]
  }
 ],
 "metadata": {
  "kernelspec": {
   "display_name": "Python 3",
   "language": "python",
   "name": "python3"
  },
  "language_info": {
   "codemirror_mode": {
    "name": "ipython",
    "version": 3
   },
   "file_extension": ".py",
   "mimetype": "text/x-python",
   "name": "python",
   "nbconvert_exporter": "python",
   "pygments_lexer": "ipython3",
   "version": "3.10.6"
  }
 },
 "nbformat": 4,
 "nbformat_minor": 2
}
